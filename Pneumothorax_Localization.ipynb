{
 "cells": [
  {
   "cell_type": "markdown",
   "metadata": {
    "colab_type": "text",
    "id": "5GyLX9FA2oW2"
   },
   "source": [
    "# Pneumothorax Localization (Faster R-CNN)"
   ]
  },
  {
   "cell_type": "markdown",
   "metadata": {},
   "source": [
    "## Data Augmentation using Translate- Crop- and Zoom-transforms\n",
    "\n",
    "- TODO"
   ]
  },
  {
   "cell_type": "code",
   "execution_count": 1,
   "metadata": {},
   "outputs": [],
   "source": [
    "from data.dicom import DICOMFolderDataset\n",
    "\n",
    "valid_data = DICOMFolderDataset('siim-acr-data/dev-pneumothorax/**/**/*.dcm', 'siim-acr-data/train-dev.csv')"
   ]
  },
  {
   "cell_type": "markdown",
   "metadata": {},
   "source": [
    "## Faster R-CNN Detection Network"
   ]
  },
  {
   "cell_type": "code",
   "execution_count": 4,
   "metadata": {},
   "outputs": [
    {
     "output_type": "error",
     "ename": "ValueError",
     "evalue": "not enough values to unpack (expected 6, got 1)",
     "traceback": [
      "\u001b[0;31m---------------------------------------------------------------------------\u001b[0m",
      "\u001b[0;31mValueError\u001b[0m                                Traceback (most recent call last)",
      "\u001b[0;32m<ipython-input-4-e51391994c10>\u001b[0m in \u001b[0;36m<module>\u001b[0;34m\u001b[0m\n\u001b[1;32m     14\u001b[0m \u001b[0mpneumothorax\u001b[0m\u001b[0;34m.\u001b[0m\u001b[0mcollect_params\u001b[0m\u001b[0;34m(\u001b[0m\u001b[0;34m)\u001b[0m\u001b[0;34m.\u001b[0m\u001b[0minitialize\u001b[0m\u001b[0;34m(\u001b[0m\u001b[0mmx\u001b[0m\u001b[0;34m.\u001b[0m\u001b[0minit\u001b[0m\u001b[0;34m.\u001b[0m\u001b[0mXavier\u001b[0m\u001b[0;34m(\u001b[0m\u001b[0mfactor_type\u001b[0m\u001b[0;34m=\u001b[0m\u001b[0;34m'in'\u001b[0m\u001b[0;34m,\u001b[0m \u001b[0mmagnitude\u001b[0m\u001b[0;34m=\u001b[0m\u001b[0;36m0.44444\u001b[0m\u001b[0;34m)\u001b[0m\u001b[0;34m,\u001b[0m \u001b[0mctx\u001b[0m\u001b[0;34m=\u001b[0m\u001b[0mctx\u001b[0m\u001b[0;34m)\u001b[0m\u001b[0;34m\u001b[0m\u001b[0;34m\u001b[0m\u001b[0m\n\u001b[1;32m     15\u001b[0m \u001b[0;34m\u001b[0m\u001b[0m\n\u001b[0;32m---> 16\u001b[0;31m \u001b[0mbboxes\u001b[0m\u001b[0;34m,\u001b[0m \u001b[0mclasses\u001b[0m\u001b[0;34m,\u001b[0m \u001b[0mrpn_cls_prob\u001b[0m\u001b[0;34m,\u001b[0m \u001b[0mrpn_bbox_pred\u001b[0m\u001b[0;34m,\u001b[0m \u001b[0mrpn_label\u001b[0m\u001b[0;34m,\u001b[0m \u001b[0mrpn_bbox_target\u001b[0m \u001b[0;34m=\u001b[0m \u001b[0mpneumothorax\u001b[0m\u001b[0;34m(\u001b[0m\u001b[0mdata\u001b[0m\u001b[0;34m,\u001b[0m \u001b[0mim_info\u001b[0m\u001b[0;34m,\u001b[0m \u001b[0mgtbox\u001b[0m\u001b[0;34m)\u001b[0m\u001b[0;34m\u001b[0m\u001b[0;34m\u001b[0m\u001b[0m\n\u001b[0m",
      "\u001b[0;31mValueError\u001b[0m: not enough values to unpack (expected 6, got 1)"
     ]
    }
   ],
   "source": [
    "import mxnet as mx\n",
    "from network.rcnn import RoentgenFasterRCNN\n",
    "\n",
    "ctx = mx.cpu(0)\n",
    "\n",
    "data = mx.sym.var('data')\n",
    "im_info = mx.sym.var('im_info')\n",
    "gtbox = mx.sym.var('gtbox')# change manually to corner format\n",
    "\n",
    "pneumothorax = RoentgenFasterRCNN(num_classes=2, Nt=0.7, rpn_output=True, scales=[0.25,0.15,0.05], ratios=[2,1,0.5])\n",
    "pneumothorax.hybridize()\n",
    "\n",
    "# Kaiming initialization from uniform [-c,c] c = sqrt(2/Nin) \n",
    "pneumothorax.collect_params().initialize(mx.init.Xavier(factor_type='in', magnitude=0.44444), ctx=ctx)\n",
    "\n",
    "bboxes, classes, rpn_cls_prob, rpn_bbox_pred, rpn_label, rpn_bbox_target = pneumothorax(data, im_info, gtbox)"
   ]
  },
  {
   "cell_type": "code",
   "execution_count": 6,
   "metadata": {
    "tags": []
   },
   "outputs": [
    {
     "output_type": "error",
     "ename": "RuntimeError",
     "evalue": "Parameter 'conv23_weight' has not been initialized. Note that you should initialize parameters and create Trainer with Block.collect_params() instead of Block.params because the later does not include Parameters of nested child Blocks",
     "traceback": [
      "\u001b[0;31m---------------------------------------------------------------------------\u001b[0m",
      "\u001b[0;31mRuntimeError\u001b[0m                              Traceback (most recent call last)",
      "\u001b[0;32m<ipython-input-6-4c5d6761bb9f>\u001b[0m in \u001b[0;36m<module>\u001b[0;34m\u001b[0m\n\u001b[1;32m     12\u001b[0m \u001b[0mim_info\u001b[0m \u001b[0;34m=\u001b[0m \u001b[0mnd\u001b[0m\u001b[0;34m.\u001b[0m\u001b[0marray\u001b[0m\u001b[0;34m(\u001b[0m\u001b[0;34m[\u001b[0m\u001b[0;34m[\u001b[0m\u001b[0;36m1024\u001b[0m\u001b[0;34m,\u001b[0m\u001b[0;36m1024\u001b[0m\u001b[0;34m,\u001b[0m\u001b[0;36m1\u001b[0m\u001b[0;34m]\u001b[0m\u001b[0;34m]\u001b[0m\u001b[0;34m)\u001b[0m\u001b[0;34m\u001b[0m\u001b[0;34m\u001b[0m\u001b[0m\n\u001b[1;32m     13\u001b[0m \u001b[0;34m\u001b[0m\u001b[0m\n\u001b[0;32m---> 14\u001b[0;31m \u001b[0mbboxes\u001b[0m\u001b[0;34m,\u001b[0m \u001b[0mclasses\u001b[0m\u001b[0;34m,\u001b[0m \u001b[0mrpn_cls_prob\u001b[0m\u001b[0;34m,\u001b[0m \u001b[0mrpn_bbox_pred\u001b[0m\u001b[0;34m,\u001b[0m \u001b[0mrpn_label\u001b[0m\u001b[0;34m,\u001b[0m \u001b[0mrpn_bbox_target\u001b[0m \u001b[0;34m=\u001b[0m \u001b[0mpneumothorax\u001b[0m\u001b[0;34m(\u001b[0m\u001b[0mX\u001b[0m\u001b[0;34m,\u001b[0m \u001b[0mim_info\u001b[0m\u001b[0;34m,\u001b[0m \u001b[0mlabel\u001b[0m\u001b[0;34m)\u001b[0m\u001b[0;34m\u001b[0m\u001b[0;34m\u001b[0m\u001b[0m\n\u001b[0m",
      "\u001b[0;32m/usr/local/anaconda3/envs/medicalimaging/lib/python3.6/site-packages/mxnet/gluon/block.py\u001b[0m in \u001b[0;36m__call__\u001b[0;34m(self, *args)\u001b[0m\n\u001b[1;32m    546\u001b[0m             \u001b[0mhook\u001b[0m\u001b[0;34m(\u001b[0m\u001b[0mself\u001b[0m\u001b[0;34m,\u001b[0m \u001b[0margs\u001b[0m\u001b[0;34m)\u001b[0m\u001b[0;34m\u001b[0m\u001b[0;34m\u001b[0m\u001b[0m\n\u001b[1;32m    547\u001b[0m \u001b[0;34m\u001b[0m\u001b[0m\n\u001b[0;32m--> 548\u001b[0;31m         \u001b[0mout\u001b[0m \u001b[0;34m=\u001b[0m \u001b[0mself\u001b[0m\u001b[0;34m.\u001b[0m\u001b[0mforward\u001b[0m\u001b[0;34m(\u001b[0m\u001b[0;34m*\u001b[0m\u001b[0margs\u001b[0m\u001b[0;34m)\u001b[0m\u001b[0;34m\u001b[0m\u001b[0;34m\u001b[0m\u001b[0m\n\u001b[0m\u001b[1;32m    549\u001b[0m \u001b[0;34m\u001b[0m\u001b[0m\n\u001b[1;32m    550\u001b[0m         \u001b[0;32mfor\u001b[0m \u001b[0mhook\u001b[0m \u001b[0;32min\u001b[0m \u001b[0mself\u001b[0m\u001b[0;34m.\u001b[0m\u001b[0m_forward_hooks\u001b[0m\u001b[0;34m.\u001b[0m\u001b[0mvalues\u001b[0m\u001b[0;34m(\u001b[0m\u001b[0;34m)\u001b[0m\u001b[0;34m:\u001b[0m\u001b[0;34m\u001b[0m\u001b[0;34m\u001b[0m\u001b[0m\n",
      "\u001b[0;32m/usr/local/anaconda3/envs/medicalimaging/lib/python3.6/site-packages/mxnet/gluon/block.py\u001b[0m in \u001b[0;36mforward\u001b[0;34m(self, x, *args)\u001b[0m\n\u001b[1;32m    913\u001b[0m             \u001b[0;32mwith\u001b[0m \u001b[0mx\u001b[0m\u001b[0;34m.\u001b[0m\u001b[0mcontext\u001b[0m \u001b[0;32mas\u001b[0m \u001b[0mctx\u001b[0m\u001b[0;34m:\u001b[0m\u001b[0;34m\u001b[0m\u001b[0;34m\u001b[0m\u001b[0m\n\u001b[1;32m    914\u001b[0m                 \u001b[0;32mif\u001b[0m \u001b[0mself\u001b[0m\u001b[0;34m.\u001b[0m\u001b[0m_active\u001b[0m\u001b[0;34m:\u001b[0m\u001b[0;34m\u001b[0m\u001b[0;34m\u001b[0m\u001b[0m\n\u001b[0;32m--> 915\u001b[0;31m                     \u001b[0;32mreturn\u001b[0m \u001b[0mself\u001b[0m\u001b[0;34m.\u001b[0m\u001b[0m_call_cached_op\u001b[0m\u001b[0;34m(\u001b[0m\u001b[0mx\u001b[0m\u001b[0;34m,\u001b[0m \u001b[0;34m*\u001b[0m\u001b[0margs\u001b[0m\u001b[0;34m)\u001b[0m\u001b[0;34m\u001b[0m\u001b[0;34m\u001b[0m\u001b[0m\n\u001b[0m\u001b[1;32m    916\u001b[0m \u001b[0;34m\u001b[0m\u001b[0m\n\u001b[1;32m    917\u001b[0m                 \u001b[0;32mtry\u001b[0m\u001b[0;34m:\u001b[0m\u001b[0;34m\u001b[0m\u001b[0;34m\u001b[0m\u001b[0m\n",
      "\u001b[0;32m/usr/local/anaconda3/envs/medicalimaging/lib/python3.6/site-packages/mxnet/gluon/block.py\u001b[0m in \u001b[0;36m_call_cached_op\u001b[0;34m(self, *args)\u001b[0m\n\u001b[1;32m    809\u001b[0m         \u001b[0;32mtry\u001b[0m\u001b[0;34m:\u001b[0m\u001b[0;34m\u001b[0m\u001b[0;34m\u001b[0m\u001b[0m\n\u001b[1;32m    810\u001b[0m             cargs = [args[i] if is_arg else i.data()\n\u001b[0;32m--> 811\u001b[0;31m                      for is_arg, i in self._cached_op_args]\n\u001b[0m\u001b[1;32m    812\u001b[0m         \u001b[0;32mexcept\u001b[0m \u001b[0mDeferredInitializationError\u001b[0m\u001b[0;34m:\u001b[0m\u001b[0;34m\u001b[0m\u001b[0;34m\u001b[0m\u001b[0m\n\u001b[1;32m    813\u001b[0m             \u001b[0mself\u001b[0m\u001b[0;34m.\u001b[0m\u001b[0m_deferred_infer_shape\u001b[0m\u001b[0;34m(\u001b[0m\u001b[0;34m*\u001b[0m\u001b[0margs\u001b[0m\u001b[0;34m)\u001b[0m\u001b[0;34m\u001b[0m\u001b[0;34m\u001b[0m\u001b[0m\n",
      "\u001b[0;32m/usr/local/anaconda3/envs/medicalimaging/lib/python3.6/site-packages/mxnet/gluon/block.py\u001b[0m in \u001b[0;36m<listcomp>\u001b[0;34m(.0)\u001b[0m\n\u001b[1;32m    809\u001b[0m         \u001b[0;32mtry\u001b[0m\u001b[0;34m:\u001b[0m\u001b[0;34m\u001b[0m\u001b[0;34m\u001b[0m\u001b[0m\n\u001b[1;32m    810\u001b[0m             cargs = [args[i] if is_arg else i.data()\n\u001b[0;32m--> 811\u001b[0;31m                      for is_arg, i in self._cached_op_args]\n\u001b[0m\u001b[1;32m    812\u001b[0m         \u001b[0;32mexcept\u001b[0m \u001b[0mDeferredInitializationError\u001b[0m\u001b[0;34m:\u001b[0m\u001b[0;34m\u001b[0m\u001b[0;34m\u001b[0m\u001b[0m\n\u001b[1;32m    813\u001b[0m             \u001b[0mself\u001b[0m\u001b[0;34m.\u001b[0m\u001b[0m_deferred_infer_shape\u001b[0m\u001b[0;34m(\u001b[0m\u001b[0;34m*\u001b[0m\u001b[0margs\u001b[0m\u001b[0;34m)\u001b[0m\u001b[0;34m\u001b[0m\u001b[0;34m\u001b[0m\u001b[0m\n",
      "\u001b[0;32m/usr/local/anaconda3/envs/medicalimaging/lib/python3.6/site-packages/mxnet/gluon/parameter.py\u001b[0m in \u001b[0;36mdata\u001b[0;34m(self, ctx)\u001b[0m\n\u001b[1;32m    541\u001b[0m                                \u001b[0;34m\"because its storage type is %s. Please use row_sparse_data() \"\u001b[0m\u001b[0;31m \u001b[0m\u001b[0;31m\\\u001b[0m\u001b[0;34m\u001b[0m\u001b[0;34m\u001b[0m\u001b[0m\n\u001b[1;32m    542\u001b[0m                                \"instead.\" % (self.name, str(ctx), self._stype))\n\u001b[0;32m--> 543\u001b[0;31m         \u001b[0;32mreturn\u001b[0m \u001b[0mself\u001b[0m\u001b[0;34m.\u001b[0m\u001b[0m_check_and_get\u001b[0m\u001b[0;34m(\u001b[0m\u001b[0mself\u001b[0m\u001b[0;34m.\u001b[0m\u001b[0m_data\u001b[0m\u001b[0;34m,\u001b[0m \u001b[0mctx\u001b[0m\u001b[0;34m)\u001b[0m\u001b[0;34m\u001b[0m\u001b[0;34m\u001b[0m\u001b[0m\n\u001b[0m\u001b[1;32m    544\u001b[0m \u001b[0;34m\u001b[0m\u001b[0m\n\u001b[1;32m    545\u001b[0m     \u001b[0;32mdef\u001b[0m \u001b[0mlist_data\u001b[0m\u001b[0;34m(\u001b[0m\u001b[0mself\u001b[0m\u001b[0;34m)\u001b[0m\u001b[0;34m:\u001b[0m\u001b[0;34m\u001b[0m\u001b[0;34m\u001b[0m\u001b[0m\n",
      "\u001b[0;32m/usr/local/anaconda3/envs/medicalimaging/lib/python3.6/site-packages/mxnet/gluon/parameter.py\u001b[0m in \u001b[0;36m_check_and_get\u001b[0;34m(self, arr_list, ctx)\u001b[0m\n\u001b[1;32m    238\u001b[0m             \u001b[0;34m\"with Block.collect_params() instead of Block.params \"\u001b[0m\u001b[0;31m \u001b[0m\u001b[0;31m\\\u001b[0m\u001b[0;34m\u001b[0m\u001b[0;34m\u001b[0m\u001b[0m\n\u001b[1;32m    239\u001b[0m             \u001b[0;34m\"because the later does not include Parameters of \"\u001b[0m\u001b[0;31m \u001b[0m\u001b[0;31m\\\u001b[0m\u001b[0;34m\u001b[0m\u001b[0;34m\u001b[0m\u001b[0m\n\u001b[0;32m--> 240\u001b[0;31m             \"nested child Blocks\"%(self.name))\n\u001b[0m\u001b[1;32m    241\u001b[0m \u001b[0;34m\u001b[0m\u001b[0m\n\u001b[1;32m    242\u001b[0m     \u001b[0;32mdef\u001b[0m \u001b[0m_get_row_sparse\u001b[0m\u001b[0;34m(\u001b[0m\u001b[0mself\u001b[0m\u001b[0;34m,\u001b[0m \u001b[0marr_list\u001b[0m\u001b[0;34m,\u001b[0m \u001b[0mctx\u001b[0m\u001b[0;34m,\u001b[0m \u001b[0mrow_id\u001b[0m\u001b[0;34m)\u001b[0m\u001b[0;34m:\u001b[0m\u001b[0;34m\u001b[0m\u001b[0;34m\u001b[0m\u001b[0m\n",
      "\u001b[0;31mRuntimeError\u001b[0m: Parameter 'conv23_weight' has not been initialized. Note that you should initialize parameters and create Trainer with Block.collect_params() instead of Block.params because the later does not include Parameters of nested child Blocks"
     ]
    }
   ],
   "source": [
    "import mxnet as mx\n",
    "from mxnet import nd\n",
    "\n",
    "study = 1\n",
    "ctx = mx.cpu(0)\n",
    "\n",
    "pneumothorax = RoentgenFasterRCNN(num_classes=2, Nt=0.7, rpn_output=True, scales=[0.25,0.15,0.05], ratios=[2,1,0.5])\n",
    "pneumothorax.hybridize()\n",
    "\n",
    "data, label = valid_data.__getitem__(study)\n",
    "X = nd.array(data.reshape((1, 1, 1024, 1024)), ctx=ctx)\n",
    "im_info = nd.array([[1024,1024,1]])\n",
    "\n",
    "bboxes, classes, rpn_cls_prob, rpn_bbox_pred, rpn_label, rpn_bbox_target = pneumothorax(X, im_info, label)"
   ]
  },
  {
   "cell_type": "code",
   "execution_count": 18,
   "metadata": {
    "tags": []
   },
   "outputs": [
    {
     "output_type": "execute_result",
     "data": {
      "text/plain": "\n[ 83.  15. 304. 183.]\n<NDArray 4 @cpu(0)>"
     },
     "metadata": {},
     "execution_count": 18
    }
   ],
   "source": [
    "label# x1>x2 in study 8 format='corner'"
   ]
  },
  {
   "cell_type": "markdown",
   "metadata": {},
   "source": [
    "## Load RPN Model"
   ]
  },
  {
   "cell_type": "code",
   "execution_count": 11,
   "metadata": {},
   "outputs": [],
   "source": [
    "from mxnet import gluon\n",
    "\n",
    "pneumothorax = gluon.nn.SymbolBlock.imports(\"model/roentgen-anchor-rpn-symbol.json\", ['data0','data1','data2'], \"model/roentgen-anchor-rpn-0200.params\", ctx=ctx)"
   ]
  },
  {
   "cell_type": "code",
   "execution_count": 13,
   "metadata": {},
   "outputs": [
    {
     "output_type": "execute_result",
     "data": {
      "text/plain": "SymbolBlock(\n<Symbol group [roentgenfasterrcnn0_slice_axis0, proposallayer0_multiproposal0, proposalnetwork0_reshape1, conv22_fwd, anchortargetlayer0_custom0, anchortargetlayer0_custom0]> : 3 -> 6\n)"
     },
     "metadata": {},
     "execution_count": 13
    }
   ],
   "source": [
    "pneumothorax"
   ]
  },
  {
   "cell_type": "code",
   "execution_count": 34,
   "metadata": {},
   "outputs": [],
   "source": [
    "import mxnet as mx\n",
    "from mxnet import nd\n",
    "\n",
    "study = 8\n",
    "ctx = mx.cpu(0)\n",
    "\n",
    "data, label = valid_data.__getitem__(study)\n",
    "X = nd.array(data.reshape((1, 1, 1024, 1024)), ctx=ctx)\n",
    "im_info = nd.array([[1024,1024,1]])\n",
    "\n",
    "bboxes, classes, rpn_cls_prob, rpn_bbox_pred, rpn_label, rpn_bbox_target = pneumothorax(X, im_info, label)"
   ]
  },
  {
   "cell_type": "code",
   "execution_count": 35,
   "metadata": {},
   "outputs": [
    {
     "output_type": "execute_result",
     "data": {
      "text/plain": "\n[541. 812. 877. 914.]\n<NDArray 4 @cpu(0)>"
     },
     "metadata": {},
     "execution_count": 35
    }
   ],
   "source": [
    "label"
   ]
  },
  {
   "cell_type": "code",
   "execution_count": 36,
   "metadata": {
    "tags": []
   },
   "outputs": [
    {
     "output_type": "execute_result",
     "data": {
      "text/plain": "\n[[47.92309  -8.       68.673096 79.82617 ]]\n<NDArray 1x4 @cpu(0)>"
     },
     "metadata": {},
     "execution_count": 36
    }
   ],
   "source": [
    "bboxes"
   ]
  },
  {
   "cell_type": "markdown",
   "metadata": {},
   "source": [
    "## Testing Anchorbox Target Generation"
   ]
  },
  {
   "cell_type": "code",
   "execution_count": 24,
   "metadata": {
    "tags": []
   },
   "outputs": [
    {
     "output_type": "execute_result",
     "data": {
      "text/plain": "\n[[ 5.126441   2.2516594 25.871796  28.751112 ]]\n<NDArray 1x4 @cpu(0)>"
     },
     "metadata": {},
     "execution_count": 24
    }
   ],
   "source": [
    "bboxes"
   ]
  },
  {
   "cell_type": "code",
   "execution_count": 25,
   "metadata": {},
   "outputs": [
    {
     "output_type": "execute_result",
     "data": {
      "text/plain": "\n[[0.000e+00 1.000e+00 2.000e+00 ... 9.213e+03 9.214e+03 9.215e+03]]\n<NDArray 1x9216 @cpu(0)>"
     },
     "metadata": {},
     "execution_count": 25
    }
   ],
   "source": [
    "rpn_label"
   ]
  },
  {
   "cell_type": "code",
   "execution_count": 26,
   "metadata": {},
   "outputs": [
    {
     "output_type": "execute_result",
     "data": {
      "text/plain": "\n[[[ 0.0000000e+00  0.0000000e+00  2.3821542e-30 ... -1.3696859e-20\n    6.9229088e-07  8.5734239e+27]\n  [-2.2664384e+16  9.1047469e+05  9.0711414e-18 ... -3.3377890e+22\n    1.4439362e-05 -1.5571007e+02]\n  [ 4.1543501e-29  1.0390956e+38 -2.1593335e+27 ... -3.0414054e-15\n    7.3356980e+23 -1.8611940e+25]\n  [-2.9247278e-24  1.2544697e-05  1.2345088e+35 ...  1.2628517e-21\n    6.1361636e+33 -3.8426647e+30]]]\n<NDArray 1x4x9216 @cpu(0)>"
     },
     "metadata": {},
     "execution_count": 26
    }
   ],
   "source": [
    "rpn_bbox_target"
   ]
  },
  {
   "cell_type": "code",
   "execution_count": 27,
   "metadata": {},
   "outputs": [
    {
     "output_type": "execute_result",
     "data": {
      "text/plain": "(1, 36, 32, 32)"
     },
     "metadata": {},
     "execution_count": 27
    }
   ],
   "source": [
    "rpn_bbox_pred.shape"
   ]
  },
  {
   "cell_type": "code",
   "execution_count": 28,
   "metadata": {},
   "outputs": [
    {
     "output_type": "execute_result",
     "data": {
      "text/plain": "\n[ 83.  15. 304. 183.]\n<NDArray 4 @cpu(0)>"
     },
     "metadata": {},
     "execution_count": 28
    }
   ],
   "source": [
    "label"
   ]
  },
  {
   "cell_type": "code",
   "execution_count": null,
   "metadata": {},
   "outputs": [],
   "source": []
  },
  {
   "cell_type": "markdown",
   "metadata": {},
   "source": [
    "## Testing Multi Proposal Block"
   ]
  },
  {
   "cell_type": "code",
   "execution_count": 51,
   "metadata": {},
   "outputs": [],
   "source": [
    "# testing the output scores of a multi-proposal\n",
    "from mxnet import nd,gluon\n",
    "from mxnet.symbol.contrib import Proposal\n",
    "\n",
    "class MyBlock(gluon.nn.HybridBlock):\n",
    "    def hybrid_forward(self, F, cls_prob, bbox_pred, im_info):\n",
    "        proposal = Proposal(cls_prob, bbox_pred, im_info, output_score=True, rpn_min_size=5, rpn_post_nms_top_n=4, scales=[0.05], ratios=[0.01])\n",
    "        return proposal\n",
    "\n",
    "mytest = MyBlock()\n",
    "mytest.hybridize()"
   ]
  },
  {
   "cell_type": "code",
   "execution_count": 52,
   "metadata": {},
   "outputs": [],
   "source": [
    "cls_scores = nd.array([[\n",
    "    [[0.0,0.0,0.0],[0.0,-500,0.0],[0.0,-100,0.0]],\n",
    "    [[0.0,0.0,0.0],[0.0,500,0.0],[0.0,100,0.0]]\n",
    "    ]])\n",
    "bbox_pred = nd.zeros((1,4,3,3))\n",
    "im_info = nd.array([[15,15,1]])"
   ]
  },
  {
   "cell_type": "code",
   "execution_count": 53,
   "metadata": {},
   "outputs": [
    {
     "output_type": "execute_result",
     "data": {
      "text/plain": "\n[[[[   0.    0.    0.]\n   [   0. -500.    0.]\n   [   0. -100.    0.]]\n\n  [[   0.    0.    0.]\n   [   0.  500.    0.]\n   [   0.  100.    0.]]]]\n<NDArray 1x2x3x3 @cpu(0)>"
     },
     "metadata": {},
     "execution_count": 53
    }
   ],
   "source": [
    "cls_scores"
   ]
  },
  {
   "cell_type": "code",
   "execution_count": 54,
   "metadata": {},
   "outputs": [
    {
     "output_type": "execute_result",
     "data": {
      "text/plain": "\n[[[[0.5 0.5 0.5]\n   [0.5 0.  0.5]\n   [0.5 0.  0.5]]\n\n  [[0.5 0.5 0.5]\n   [0.5 1.  0.5]\n   [0.5 1.  0.5]]]]\n<NDArray 1x2x3x3 @cpu(0)>"
     },
     "metadata": {},
     "execution_count": 54
    }
   ],
   "source": [
    "nd.softmax(cls_scores,axis=1)"
   ]
  },
  {
   "cell_type": "code",
   "execution_count": 55,
   "metadata": {},
   "outputs": [
    {
     "output_type": "execute_result",
     "data": {
      "text/plain": "\n[[[[0. 0. 0.]\n   [0. 0. 0.]\n   [0. 0. 0.]]\n\n  [[0. 0. 0.]\n   [0. 0. 0.]\n   [0. 0. 0.]]\n\n  [[0. 0. 0.]\n   [0. 0. 0.]\n   [0. 0. 0.]]\n\n  [[0. 0. 0.]\n   [0. 0. 0.]\n   [0. 0. 0.]]]]\n<NDArray 1x4x3x3 @cpu(0)>"
     },
     "metadata": {},
     "execution_count": 55
    }
   ],
   "source": [
    "bbox_pred"
   ]
  },
  {
   "cell_type": "code",
   "execution_count": 235,
   "metadata": {},
   "outputs": [
    {
     "output_type": "execute_result",
     "data": {
      "text/plain": "\n[[15. 15.  1.]]\n<NDArray 1x3 @cpu(0)>"
     },
     "metadata": {},
     "execution_count": 235
    }
   ],
   "source": [
    "im_info"
   ]
  },
  {
   "cell_type": "code",
   "execution_count": 236,
   "metadata": {},
   "outputs": [
    {
     "output_type": "execute_result",
     "data": {
      "text/plain": "[\n [[ 0.    1.5   5.45 13.5   9.55]\n  [ 0.   11.5   5.45 16.5   9.55]\n  [ 0.    1.5  11.5  13.5  16.5 ]\n  [ 0.   11.5  11.5  16.5  16.5 ]]\n <NDArray 4x5 @cpu(0)>,\n \n [[-1.]\n  [-1.]\n  [-1.]\n  [-1.]]\n <NDArray 4x1 @cpu(0)>]"
     },
     "metadata": {},
     "execution_count": 236
    }
   ],
   "source": [
    "# why are the output scores always -1\n",
    "mytest(cls_scores, bbox_pred, im_info)"
   ]
  }
 ],
 "metadata": {
  "accelerator": "GPU",
  "colab": {
   "collapsed_sections": [],
   "name": "Pneumothorax_Localization.ipynb",
   "provenance": [],
   "toc_visible": true
  },
  "kernelspec": {
   "display_name": "Python 3.6.10 64-bit ('medicalimaging': conda)",
   "language": "python",
   "name": "python_defaultSpec_1598984441586"
  },
  "language_info": {
   "codemirror_mode": {
    "name": "ipython",
    "version": 3
   },
   "file_extension": ".py",
   "mimetype": "text/x-python",
   "name": "python",
   "nbconvert_exporter": "python",
   "pygments_lexer": "ipython3",
   "version": "3.6.10-final"
  }
 },
 "nbformat": 4,
 "nbformat_minor": 1
}